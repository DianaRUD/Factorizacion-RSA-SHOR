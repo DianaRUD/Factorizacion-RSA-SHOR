{
  "nbformat": 4,
  "nbformat_minor": 0,
  "metadata": {
    "colab": {
      "provenance": [],
      "authorship_tag": "ABX9TyPMXfIeGYpHrnbcEIRhmR/C",
      "include_colab_link": true
    },
    "kernelspec": {
      "name": "python3",
      "display_name": "Python 3"
    },
    "language_info": {
      "name": "python"
    }
  },
  "cells": [
    {
      "cell_type": "markdown",
      "metadata": {
        "id": "view-in-github",
        "colab_type": "text"
      },
      "source": [
        "<a href=\"https://colab.research.google.com/github/DianaRUD/Factorizacion-RSA-SHOR/blob/main/proyectoFinal.ipynb\" target=\"_parent\"><img src=\"https://colab.research.google.com/assets/colab-badge.svg\" alt=\"Open In Colab\"/></a>"
      ]
    },
    {
      "cell_type": "code",
      "execution_count": null,
      "metadata": {
        "id": "ZV7kws6Vk_Ec"
      },
      "outputs": [],
      "source": [
        "__authors__    = \"Diana Carolina Rodriguez Botina, PhD\"\n",
        "__codigo__   = [\"20212678016\"]\n",
        "__class__   = [\"Computación Cuántica,PhD\"]\n",
        "__copyright_amp__ = \"(c) Diana Carolina Rodriguez Botina\"\n",
        "__email__   = \"dcrodriguezb@correo.udistrital.edu.co\""
      ]
    },
    {
      "cell_type": "markdown",
      "source": [
        "# **Solución al problema de la factorización de enteros largos con el algoritmo de Shor al algoritmo de encriptación RSA**\n",
        "\n",
        "\n",
        "\n"
      ],
      "metadata": {
        "id": "oQFxV2m9qDEI"
      }
    },
    {
      "cell_type": "markdown",
      "source": [
        "# **¿Que?** que es mi algortimo"
      ],
      "metadata": {
        "id": "RHSRJWVymTrw"
      }
    },
    {
      "cell_type": "markdown",
      "source": [
        "**Algotirmo RSA**\n",
        "\n",
        "\n",
        "En criptografía, RSA (Rivest, Shamir y Adleman) es un sistema criptográfico de clave pública desarrollado en 1979, que utiliza factorización de números enteros. Es el primer y más utilizado algoritmo de este tipo y es válido tanto para cifrar como para firmar digitalmente.\n",
        "\n",
        "Se trata de un algoritmo de cifrado asimétrico, o de clave pública, y es uno de los más utilizados en la actualidad. De hecho, la mayor parte de los sitios web hoy integran seguridad SSL/TLS, y permiten la autenticación mediante RSA.\n",
        "\n",
        "La seguridad de este algoritmo radica en el problema de la factorización de números enteros. Los mensajes enviados se representan mediante números, y el funcionamiento se basa en el producto, conocido, de dos números primos grandes elegidos al azar y mantenidos en secreto. Actualmente estos primos son del orden de  $100^{300}$, y se prevé que su tamaño siempre crezca con el aumento de la capacidad de cálculo de los ordenadores.\n",
        "\n",
        "Como en todo sistema de clave pública, cada usuario posee dos claves de cifrado: una pública y otra privada. Cuando se quiere enviar un mensaje confidencial, el emisor busca la clave pública del receptor, cifra su mensaje con esa clave, y una vez que el mensaje cifrado llega al receptor, este se ocupa de descifrarlo usando su clave privada.\n",
        "\n",
        "En el caso de querer firmar (propiedades de autenticidad, integridad y no repudio), el emisor obtiene un hash del mensaje a firmar y lo procesa con su clave privada obteniendo así la firma; se envía el mensaje y la firma; el receptor recalcula el hash y descifra el hash original con la clave pública del emisor, validando así (o no) la firma del mensaje.\n",
        "\n",
        "Se cree que RSA será seguro mientras no se conozcan formas rápidas de descomponer un número grande en producto de primos. Aunque se cree que la computación cuántica podría proveer de una solución al problema de factorización, existen investigadores que dudan que dichos avances vayan a volver obsoletos estos algoritmos.\n",
        "\n",
        "\n",
        "\n",
        "RSA, al ser un cifrador asimétrico, trabaja con dos claves, una pública y una privada. Todo el contenido de texto plano, o contenido sin cifrar, que se haya encriptado con la clave pública, podrá ser descifrado mediante la clave privada, y viceversa, todo contenido cifrado con la clave privada podrá ser descifrado mediante la clave pública. $^{1}$"
      ],
      "metadata": {
        "id": "AYbkjyY5mpX3"
      }
    },
    {
      "cell_type": "markdown",
      "source": [
        "Algortimo Shor\n",
        "\n",
        "\n"
      ],
      "metadata": {
        "id": "0wNfkzLgr7Oq"
      }
    },
    {
      "cell_type": "markdown",
      "source": [
        "#**¿Como?**"
      ],
      "metadata": {
        "id": "pzmVVLWJsIMD"
      }
    },
    {
      "cell_type": "markdown",
      "source": [
        "Como trabaja el Algortimo RSA"
      ],
      "metadata": {
        "id": "ex67Z9wasNcC"
      }
    },
    {
      "cell_type": "markdown",
      "source": [
        "Como trabaja el Algortimo Shor"
      ],
      "metadata": {
        "id": "l6gj9MxgsUbi"
      }
    },
    {
      "cell_type": "markdown",
      "source": [
        "# **¿Cuando?**"
      ],
      "metadata": {
        "id": "mrpFLHPZsaSq"
      }
    },
    {
      "cell_type": "markdown",
      "source": [
        "RSA"
      ],
      "metadata": {
        "id": "V-SxD2mbshvi"
      }
    },
    {
      "cell_type": "markdown",
      "source": [
        "Shor"
      ],
      "metadata": {
        "id": "QBVxOyhrsj7K"
      }
    },
    {
      "cell_type": "markdown",
      "source": [
        "# **¿Donde?**"
      ],
      "metadata": {
        "id": "TeUpGup9snAy"
      }
    },
    {
      "cell_type": "markdown",
      "source": [
        "RSA"
      ],
      "metadata": {
        "id": "0o8UFPFSss_q"
      }
    },
    {
      "cell_type": "markdown",
      "source": [
        "Shor"
      ],
      "metadata": {
        "id": "WktuZaFesuQj"
      }
    },
    {
      "cell_type": "markdown",
      "source": [
        "# **Implementacion**"
      ],
      "metadata": {
        "id": "KASIkbLdsvwj"
      }
    },
    {
      "cell_type": "markdown",
      "source": [
        "uso de trabajo"
      ],
      "metadata": {
        "id": "zaZrIaNys0cj"
      }
    },
    {
      "cell_type": "markdown",
      "source": [
        "# **Resultados o testing**"
      ],
      "metadata": {
        "id": "WNaoF9QsxbN1"
      }
    },
    {
      "cell_type": "markdown",
      "source": [
        "# **Bibliografia**"
      ],
      "metadata": {
        "id": "rcfZuRMexnQ8"
      }
    }
  ]
}